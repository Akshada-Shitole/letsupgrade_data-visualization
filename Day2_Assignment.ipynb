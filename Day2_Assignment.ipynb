{
  "nbformat": 4,
  "nbformat_minor": 0,
  "metadata": {
    "colab": {
      "name": "Day2_Assignment.ipynb",
      "provenance": []
    },
    "kernelspec": {
      "name": "python3",
      "display_name": "Python 3"
    },
    "language_info": {
      "name": "python"
    }
  },
  "cells": [
    {
      "cell_type": "markdown",
      "metadata": {
        "id": "s_YfBf-_Lr6d"
      },
      "source": [
        "Lets Upgrade Data Visualization Program\n",
        "\n",
        "\n",
        "DAY 2 ASSIGNMENT"
      ]
    },
    {
      "cell_type": "code",
      "metadata": {
        "colab": {
          "base_uri": "https://localhost:8080/",
          "height": 309
        },
        "id": "JeipynTZLyNL",
        "outputId": "08f688b5-4779-437b-e511-fc5878491056"
      },
      "source": [
        "\"\"\"\n",
        "\n",
        "Question 1\n",
        "Create a dataframe with 10 rows on random numbers and 4 columns, (columns labelled as a,b,c,d)\n",
        "and plot a bar chart.\n",
        "\n",
        "\"\"\"\n",
        "\n",
        "\n",
        "import matplotlib.pyplot as plt\n",
        "import numpy as np\n",
        "import pandas as pd\n",
        "import seaborn as sns\n",
        "from numpy.random import randn,randint,uniform,sample\n",
        "\n",
        "\n",
        "df=pd.DataFrame(randn(10,4),columns=['a','b','c','d'])\n",
        "df.plot.bar()\n",
        "plt.title(\"bar plot\",color='red')\n",
        "plt.xlabel(\"x-axis\")\n",
        "plt.ylabel(\"y-axis\")"
      ],
      "execution_count": 1,
      "outputs": [
        {
          "output_type": "execute_result",
          "data": {
            "text/plain": [
              "Text(0, 0.5, 'y-axis')"
            ]
          },
          "metadata": {
            "tags": []
          },
          "execution_count": 1
        },
        {
          "output_type": "display_data",
          "data": {
            "image/png": "[encoded data removed]",
            "text/plain": [
              "<Figure size 432x288 with 1 Axes>"
            ]
          },
          "metadata": {
            "tags": [],
            "needs_background": "light"
          }
        }
      ]
    }
  ]
}